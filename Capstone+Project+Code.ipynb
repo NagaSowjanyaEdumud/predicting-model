{
 "cells": [
  {
   "cell_type": "code",
   "execution_count": 2,
   "metadata": {
    "collapsed": true
   },
   "outputs": [],
   "source": [
    "import pandas as pd\n",
    "import pylab as pl\n",
    "import numpy as np\n",
    "import scipy.optimize as opt\n",
    "from sklearn import preprocessing\n",
    "%matplotlib inline \n",
    "import matplotlib.pyplot as plt"
   ]
  },
  {
   "cell_type": "code",
   "execution_count": 3,
   "metadata": {},
   "outputs": [
    {
     "data": {
      "text/html": [
       "<div>\n",
       "<style scoped>\n",
       "    .dataframe tbody tr th:only-of-type {\n",
       "        vertical-align: middle;\n",
       "    }\n",
       "\n",
       "    .dataframe tbody tr th {\n",
       "        vertical-align: top;\n",
       "    }\n",
       "\n",
       "    .dataframe thead th {\n",
       "        text-align: right;\n",
       "    }\n",
       "</style>\n",
       "<table border=\"1\" class=\"dataframe\">\n",
       "  <thead>\n",
       "    <tr style=\"text-align: right;\">\n",
       "      <th></th>\n",
       "      <th>Technique</th>\n",
       "      <th>Type</th>\n",
       "      <th>Counter_Other_Attacks</th>\n",
       "      <th>Scheme</th>\n",
       "      <th>Consider_other_means_of_packet_drop</th>\n",
       "      <th>Multi_Path_Based</th>\n",
       "      <th>Acknowledge_based</th>\n",
       "      <th>Neighbor_Monitoring</th>\n",
       "      <th>Reliable_Data_Delivery</th>\n",
       "    </tr>\n",
       "  </thead>\n",
       "  <tbody>\n",
       "    <tr>\n",
       "      <th>0</th>\n",
       "      <td>Karlof et's Scheme</td>\n",
       "      <td>0</td>\n",
       "      <td>1</td>\n",
       "      <td>1</td>\n",
       "      <td>0</td>\n",
       "      <td>1</td>\n",
       "      <td>1</td>\n",
       "      <td>0</td>\n",
       "      <td>1</td>\n",
       "    </tr>\n",
       "    <tr>\n",
       "      <th>1</th>\n",
       "      <td>Yu &amp; Xia's</td>\n",
       "      <td>1</td>\n",
       "      <td>0</td>\n",
       "      <td>1</td>\n",
       "      <td>1</td>\n",
       "      <td>0</td>\n",
       "      <td>0</td>\n",
       "      <td>0</td>\n",
       "      <td>0</td>\n",
       "    </tr>\n",
       "    <tr>\n",
       "      <th>2</th>\n",
       "      <td>CHEMAS</td>\n",
       "      <td>1</td>\n",
       "      <td>0</td>\n",
       "      <td>1</td>\n",
       "      <td>1</td>\n",
       "      <td>0</td>\n",
       "      <td>0</td>\n",
       "      <td>0</td>\n",
       "      <td>0</td>\n",
       "    </tr>\n",
       "    <tr>\n",
       "      <th>3</th>\n",
       "      <td>SVM's</td>\n",
       "      <td>1</td>\n",
       "      <td>1</td>\n",
       "      <td>0</td>\n",
       "      <td>0</td>\n",
       "      <td>0</td>\n",
       "      <td>1</td>\n",
       "      <td>1</td>\n",
       "      <td>0</td>\n",
       "    </tr>\n",
       "    <tr>\n",
       "      <th>4</th>\n",
       "      <td>Hung-Min</td>\n",
       "      <td>0</td>\n",
       "      <td>0</td>\n",
       "      <td>0</td>\n",
       "      <td>0</td>\n",
       "      <td>0</td>\n",
       "      <td>1</td>\n",
       "      <td>0</td>\n",
       "      <td>1</td>\n",
       "    </tr>\n",
       "    <tr>\n",
       "      <th>5</th>\n",
       "      <td>Krontiris</td>\n",
       "      <td>1</td>\n",
       "      <td>1</td>\n",
       "      <td>1</td>\n",
       "      <td>0</td>\n",
       "      <td>0</td>\n",
       "      <td>1</td>\n",
       "      <td>1</td>\n",
       "      <td>0</td>\n",
       "    </tr>\n",
       "    <tr>\n",
       "      <th>6</th>\n",
       "      <td>Fuzzy-Based</td>\n",
       "      <td>1</td>\n",
       "      <td>0</td>\n",
       "      <td>0</td>\n",
       "      <td>0</td>\n",
       "      <td>1</td>\n",
       "      <td>1</td>\n",
       "      <td>0</td>\n",
       "      <td>1</td>\n",
       "    </tr>\n",
       "    <tr>\n",
       "      <th>7</th>\n",
       "      <td>2-hops Neighbor</td>\n",
       "      <td>1</td>\n",
       "      <td>0</td>\n",
       "      <td>1</td>\n",
       "      <td>1</td>\n",
       "      <td>0</td>\n",
       "      <td>1</td>\n",
       "      <td>1</td>\n",
       "      <td>0</td>\n",
       "    </tr>\n",
       "    <tr>\n",
       "      <th>8</th>\n",
       "      <td>CADE</td>\n",
       "      <td>1</td>\n",
       "      <td>1</td>\n",
       "      <td>0</td>\n",
       "      <td>0</td>\n",
       "      <td>0</td>\n",
       "      <td>0</td>\n",
       "      <td>0</td>\n",
       "      <td>0</td>\n",
       "    </tr>\n",
       "    <tr>\n",
       "      <th>9</th>\n",
       "      <td>Jeremy Brown et al</td>\n",
       "      <td>1</td>\n",
       "      <td>0</td>\n",
       "      <td>0</td>\n",
       "      <td>1</td>\n",
       "      <td>0</td>\n",
       "      <td>1</td>\n",
       "      <td>1</td>\n",
       "      <td>0</td>\n",
       "    </tr>\n",
       "    <tr>\n",
       "      <th>10</th>\n",
       "      <td>Water Mark</td>\n",
       "      <td>1</td>\n",
       "      <td>0</td>\n",
       "      <td>1</td>\n",
       "      <td>1</td>\n",
       "      <td>0</td>\n",
       "      <td>1</td>\n",
       "      <td>0</td>\n",
       "      <td>0</td>\n",
       "    </tr>\n",
       "    <tr>\n",
       "      <th>11</th>\n",
       "      <td>Polynomial-Based</td>\n",
       "      <td>0</td>\n",
       "      <td>0</td>\n",
       "      <td>1</td>\n",
       "      <td>0</td>\n",
       "      <td>0</td>\n",
       "      <td>1</td>\n",
       "      <td>0</td>\n",
       "      <td>0</td>\n",
       "    </tr>\n",
       "    <tr>\n",
       "      <th>12</th>\n",
       "      <td>Chanatip et al</td>\n",
       "      <td>1</td>\n",
       "      <td>1</td>\n",
       "      <td>0</td>\n",
       "      <td>0</td>\n",
       "      <td>0</td>\n",
       "      <td>1</td>\n",
       "      <td>1</td>\n",
       "      <td>0</td>\n",
       "    </tr>\n",
       "    <tr>\n",
       "      <th>13</th>\n",
       "      <td>Wang Xin</td>\n",
       "      <td>1</td>\n",
       "      <td>0</td>\n",
       "      <td>1</td>\n",
       "      <td>0</td>\n",
       "      <td>0</td>\n",
       "      <td>1</td>\n",
       "      <td>1</td>\n",
       "      <td>1</td>\n",
       "    </tr>\n",
       "    <tr>\n",
       "      <th>14</th>\n",
       "      <td>Game Theory</td>\n",
       "      <td>1</td>\n",
       "      <td>0</td>\n",
       "      <td>0</td>\n",
       "      <td>0</td>\n",
       "      <td>0</td>\n",
       "      <td>0</td>\n",
       "      <td>0</td>\n",
       "      <td>0</td>\n",
       "    </tr>\n",
       "    <tr>\n",
       "      <th>15</th>\n",
       "      <td>Sequential mesh</td>\n",
       "      <td>1</td>\n",
       "      <td>0</td>\n",
       "      <td>0</td>\n",
       "      <td>0</td>\n",
       "      <td>0</td>\n",
       "      <td>1</td>\n",
       "      <td>1</td>\n",
       "      <td>0</td>\n",
       "    </tr>\n",
       "    <tr>\n",
       "      <th>16</th>\n",
       "      <td>Suk-bok</td>\n",
       "      <td>1</td>\n",
       "      <td>0</td>\n",
       "      <td>1</td>\n",
       "      <td>0</td>\n",
       "      <td>1</td>\n",
       "      <td>1</td>\n",
       "      <td>1</td>\n",
       "      <td>1</td>\n",
       "    </tr>\n",
       "  </tbody>\n",
       "</table>\n",
       "</div>"
      ],
      "text/plain": [
       "             Technique  Type  Counter_Other_Attacks  Scheme  \\\n",
       "0   Karlof et's Scheme     0                      1       1   \n",
       "1           Yu & Xia's     1                      0       1   \n",
       "2               CHEMAS     1                      0       1   \n",
       "3                SVM's     1                      1       0   \n",
       "4             Hung-Min     0                      0       0   \n",
       "5            Krontiris     1                      1       1   \n",
       "6          Fuzzy-Based     1                      0       0   \n",
       "7      2-hops Neighbor     1                      0       1   \n",
       "8                 CADE     1                      1       0   \n",
       "9   Jeremy Brown et al     1                      0       0   \n",
       "10          Water Mark     1                      0       1   \n",
       "11    Polynomial-Based     0                      0       1   \n",
       "12      Chanatip et al     1                      1       0   \n",
       "13            Wang Xin     1                      0       1   \n",
       "14         Game Theory     1                      0       0   \n",
       "15     Sequential mesh     1                      0       0   \n",
       "16             Suk-bok     1                      0       1   \n",
       "\n",
       "    Consider_other_means_of_packet_drop  Multi_Path_Based  Acknowledge_based  \\\n",
       "0                                     0                 1                  1   \n",
       "1                                     1                 0                  0   \n",
       "2                                     1                 0                  0   \n",
       "3                                     0                 0                  1   \n",
       "4                                     0                 0                  1   \n",
       "5                                     0                 0                  1   \n",
       "6                                     0                 1                  1   \n",
       "7                                     1                 0                  1   \n",
       "8                                     0                 0                  0   \n",
       "9                                     1                 0                  1   \n",
       "10                                    1                 0                  1   \n",
       "11                                    0                 0                  1   \n",
       "12                                    0                 0                  1   \n",
       "13                                    0                 0                  1   \n",
       "14                                    0                 0                  0   \n",
       "15                                    0                 0                  1   \n",
       "16                                    0                 1                  1   \n",
       "\n",
       "    Neighbor_Monitoring  Reliable_Data_Delivery  \n",
       "0                     0                       1  \n",
       "1                     0                       0  \n",
       "2                     0                       0  \n",
       "3                     1                       0  \n",
       "4                     0                       1  \n",
       "5                     1                       0  \n",
       "6                     0                       1  \n",
       "7                     1                       0  \n",
       "8                     0                       0  \n",
       "9                     1                       0  \n",
       "10                    0                       0  \n",
       "11                    0                       0  \n",
       "12                    1                       0  \n",
       "13                    1                       1  \n",
       "14                    0                       0  \n",
       "15                    1                       0  \n",
       "16                    1                       1  "
      ]
     },
     "execution_count": 3,
     "metadata": {},
     "output_type": "execute_result"
    }
   ],
   "source": [
    "import pandas as pd\n",
    "data = pd.read_excel(\"Capstone Project Data.xlsx\")\n",
    "df = pd.DataFrame(data)\n",
    "df"
   ]
  },
  {
   "cell_type": "code",
   "execution_count": 8,
   "metadata": {
    "scrolled": true
   },
   "outputs": [
    {
     "data": {
      "text/html": [
       "<style  type=\"text/css\" >\n",
       "    #T_eb8d6bce_183e_11ea_ae20_000c2918c69drow0_col0 {\n",
       "            background-color:  #b40426;\n",
       "        }    #T_eb8d6bce_183e_11ea_ae20_000c2918c69drow0_col1 {\n",
       "            background-color:  #93b5fe;\n",
       "        }    #T_eb8d6bce_183e_11ea_ae20_000c2918c69drow0_col2 {\n",
       "            background-color:  #445acc;\n",
       "        }    #T_eb8d6bce_183e_11ea_ae20_000c2918c69drow0_col3 {\n",
       "            background-color:  #dedcdb;\n",
       "        }    #T_eb8d6bce_183e_11ea_ae20_000c2918c69drow0_col4 {\n",
       "            background-color:  #5470de;\n",
       "        }    #T_eb8d6bce_183e_11ea_ae20_000c2918c69drow0_col5 {\n",
       "            background-color:  #3b4cc0;\n",
       "        }    #T_eb8d6bce_183e_11ea_ae20_000c2918c69drow0_col6 {\n",
       "            background-color:  #dddcdc;\n",
       "        }    #T_eb8d6bce_183e_11ea_ae20_000c2918c69drow0_col7 {\n",
       "            background-color:  #4257c9;\n",
       "        }    #T_eb8d6bce_183e_11ea_ae20_000c2918c69drow1_col0 {\n",
       "            background-color:  #8badfd;\n",
       "        }    #T_eb8d6bce_183e_11ea_ae20_000c2918c69drow1_col1 {\n",
       "            background-color:  #b40426;\n",
       "        }    #T_eb8d6bce_183e_11ea_ae20_000c2918c69drow1_col2 {\n",
       "            background-color:  #3b4cc0;\n",
       "        }    #T_eb8d6bce_183e_11ea_ae20_000c2918c69drow1_col3 {\n",
       "            background-color:  #3b4cc0;\n",
       "        }    #T_eb8d6bce_183e_11ea_ae20_000c2918c69drow1_col4 {\n",
       "            background-color:  #90b2fe;\n",
       "        }    #T_eb8d6bce_183e_11ea_ae20_000c2918c69drow1_col5 {\n",
       "            background-color:  #8caffe;\n",
       "        }    #T_eb8d6bce_183e_11ea_ae20_000c2918c69drow1_col6 {\n",
       "            background-color:  #90b2fe;\n",
       "        }    #T_eb8d6bce_183e_11ea_ae20_000c2918c69drow1_col7 {\n",
       "            background-color:  #7b9ff9;\n",
       "        }    #T_eb8d6bce_183e_11ea_ae20_000c2918c69drow2_col0 {\n",
       "            background-color:  #7597f6;\n",
       "        }    #T_eb8d6bce_183e_11ea_ae20_000c2918c69drow2_col1 {\n",
       "            background-color:  #7396f5;\n",
       "        }    #T_eb8d6bce_183e_11ea_ae20_000c2918c69drow2_col2 {\n",
       "            background-color:  #b40426;\n",
       "        }    #T_eb8d6bce_183e_11ea_ae20_000c2918c69drow2_col3 {\n",
       "            background-color:  #e7d7ce;\n",
       "        }    #T_eb8d6bce_183e_11ea_ae20_000c2918c69drow2_col4 {\n",
       "            background-color:  #a7c5fe;\n",
       "        }    #T_eb8d6bce_183e_11ea_ae20_000c2918c69drow2_col5 {\n",
       "            background-color:  #85a8fc;\n",
       "        }    #T_eb8d6bce_183e_11ea_ae20_000c2918c69drow2_col6 {\n",
       "            background-color:  #4e68d8;\n",
       "        }    #T_eb8d6bce_183e_11ea_ae20_000c2918c69drow2_col7 {\n",
       "            background-color:  #b2ccfb;\n",
       "        }    #T_eb8d6bce_183e_11ea_ae20_000c2918c69drow3_col0 {\n",
       "            background-color:  #dadce0;\n",
       "        }    #T_eb8d6bce_183e_11ea_ae20_000c2918c69drow3_col1 {\n",
       "            background-color:  #3b4cc0;\n",
       "        }    #T_eb8d6bce_183e_11ea_ae20_000c2918c69drow3_col2 {\n",
       "            background-color:  #cdd9ec;\n",
       "        }    #T_eb8d6bce_183e_11ea_ae20_000c2918c69drow3_col3 {\n",
       "            background-color:  #b40426;\n",
       "        }    #T_eb8d6bce_183e_11ea_ae20_000c2918c69drow3_col4 {\n",
       "            background-color:  #3b4cc0;\n",
       "        }    #T_eb8d6bce_183e_11ea_ae20_000c2918c69drow3_col5 {\n",
       "            background-color:  #3c4ec2;\n",
       "        }    #T_eb8d6bce_183e_11ea_ae20_000c2918c69drow3_col6 {\n",
       "            background-color:  #445acc;\n",
       "        }    #T_eb8d6bce_183e_11ea_ae20_000c2918c69drow3_col7 {\n",
       "            background-color:  #3b4cc0;\n",
       "        }    #T_eb8d6bce_183e_11ea_ae20_000c2918c69drow4_col0 {\n",
       "            background-color:  #6485ec;\n",
       "        }    #T_eb8d6bce_183e_11ea_ae20_000c2918c69drow4_col1 {\n",
       "            background-color:  #a6c4fe;\n",
       "        }    #T_eb8d6bce_183e_11ea_ae20_000c2918c69drow4_col2 {\n",
       "            background-color:  #8db0fe;\n",
       "        }    #T_eb8d6bce_183e_11ea_ae20_000c2918c69drow4_col3 {\n",
       "            background-color:  #5470de;\n",
       "        }    #T_eb8d6bce_183e_11ea_ae20_000c2918c69drow4_col4 {\n",
       "            background-color:  #b40426;\n",
       "        }    #T_eb8d6bce_183e_11ea_ae20_000c2918c69drow4_col5 {\n",
       "            background-color:  #c3d5f4;\n",
       "        }    #T_eb8d6bce_183e_11ea_ae20_000c2918c69drow4_col6 {\n",
       "            background-color:  #3b4cc0;\n",
       "        }    #T_eb8d6bce_183e_11ea_ae20_000c2918c69drow4_col7 {\n",
       "            background-color:  #ee8468;\n",
       "        }    #T_eb8d6bce_183e_11ea_ae20_000c2918c69drow5_col0 {\n",
       "            background-color:  #5572df;\n",
       "        }    #T_eb8d6bce_183e_11ea_ae20_000c2918c69drow5_col1 {\n",
       "            background-color:  #a9c6fd;\n",
       "        }    #T_eb8d6bce_183e_11ea_ae20_000c2918c69drow5_col2 {\n",
       "            background-color:  #7093f3;\n",
       "        }    #T_eb8d6bce_183e_11ea_ae20_000c2918c69drow5_col3 {\n",
       "            background-color:  #5f7fe8;\n",
       "        }    #T_eb8d6bce_183e_11ea_ae20_000c2918c69drow5_col4 {\n",
       "            background-color:  #c9d7f0;\n",
       "        }    #T_eb8d6bce_183e_11ea_ae20_000c2918c69drow5_col5 {\n",
       "            background-color:  #b40426;\n",
       "        }    #T_eb8d6bce_183e_11ea_ae20_000c2918c69drow5_col6 {\n",
       "            background-color:  #eed0c0;\n",
       "        }    #T_eb8d6bce_183e_11ea_ae20_000c2918c69drow5_col7 {\n",
       "            background-color:  #e8d6cc;\n",
       "        }    #T_eb8d6bce_183e_11ea_ae20_000c2918c69drow6_col0 {\n",
       "            background-color:  #f1cdba;\n",
       "        }    #T_eb8d6bce_183e_11ea_ae20_000c2918c69drow6_col1 {\n",
       "            background-color:  #c4d5f3;\n",
       "        }    #T_eb8d6bce_183e_11ea_ae20_000c2918c69drow6_col2 {\n",
       "            background-color:  #5875e1;\n",
       "        }    #T_eb8d6bce_183e_11ea_ae20_000c2918c69drow6_col3 {\n",
       "            background-color:  #85a8fc;\n",
       "        }    #T_eb8d6bce_183e_11ea_ae20_000c2918c69drow6_col4 {\n",
       "            background-color:  #6384eb;\n",
       "        }    #T_eb8d6bce_183e_11ea_ae20_000c2918c69drow6_col5 {\n",
       "            background-color:  #f4c6af;\n",
       "        }    #T_eb8d6bce_183e_11ea_ae20_000c2918c69drow6_col6 {\n",
       "            background-color:  #b40426;\n",
       "        }    #T_eb8d6bce_183e_11ea_ae20_000c2918c69drow6_col7 {\n",
       "            background-color:  #85a8fc;\n",
       "        }    #T_eb8d6bce_183e_11ea_ae20_000c2918c69drow7_col0 {\n",
       "            background-color:  #3b4cc0;\n",
       "        }    #T_eb8d6bce_183e_11ea_ae20_000c2918c69drow7_col1 {\n",
       "            background-color:  #7b9ff9;\n",
       "        }    #T_eb8d6bce_183e_11ea_ae20_000c2918c69drow7_col2 {\n",
       "            background-color:  #82a6fb;\n",
       "        }    #T_eb8d6bce_183e_11ea_ae20_000c2918c69drow7_col3 {\n",
       "            background-color:  #3b4cc0;\n",
       "        }    #T_eb8d6bce_183e_11ea_ae20_000c2918c69drow7_col4 {\n",
       "            background-color:  #f08b6e;\n",
       "        }    #T_eb8d6bce_183e_11ea_ae20_000c2918c69drow7_col5 {\n",
       "            background-color:  #dadce0;\n",
       "        }    #T_eb8d6bce_183e_11ea_ae20_000c2918c69drow7_col6 {\n",
       "            background-color:  #445acc;\n",
       "        }    #T_eb8d6bce_183e_11ea_ae20_000c2918c69drow7_col7 {\n",
       "            background-color:  #b40426;\n",
       "        }</style>  \n",
       "<table id=\"T_eb8d6bce_183e_11ea_ae20_000c2918c69d\" > \n",
       "<thead>    <tr> \n",
       "        <th class=\"blank level0\" ></th> \n",
       "        <th class=\"col_heading level0 col0\" >Type</th> \n",
       "        <th class=\"col_heading level0 col1\" >Counter_Other_Attacks</th> \n",
       "        <th class=\"col_heading level0 col2\" >Scheme</th> \n",
       "        <th class=\"col_heading level0 col3\" >Consider_other_means_of_packet_drop</th> \n",
       "        <th class=\"col_heading level0 col4\" >Multi_Path_Based</th> \n",
       "        <th class=\"col_heading level0 col5\" >Acknowledge_based</th> \n",
       "        <th class=\"col_heading level0 col6\" >Neighbor_Monitoring</th> \n",
       "        <th class=\"col_heading level0 col7\" >Reliable_Data_Delivery</th> \n",
       "    </tr></thead> \n",
       "<tbody>    <tr> \n",
       "        <th id=\"T_eb8d6bce_183e_11ea_ae20_000c2918c69dlevel0_row0\" class=\"row_heading level0 row0\" >Type</th> \n",
       "        <td id=\"T_eb8d6bce_183e_11ea_ae20_000c2918c69drow0_col0\" class=\"data row0 col0\" >1</td> \n",
       "        <td id=\"T_eb8d6bce_183e_11ea_ae20_000c2918c69drow0_col1\" class=\"data row0 col1\" >-0.039841</td> \n",
       "        <td id=\"T_eb8d6bce_183e_11ea_ae20_000c2918c69drow0_col2\" class=\"data row0 col2\" >-0.127294</td> \n",
       "        <td id=\"T_eb8d6bce_183e_11ea_ae20_000c2918c69drow0_col3\" class=\"data row0 col3\" >0.298807</td> \n",
       "        <td id=\"T_eb8d6bce_183e_11ea_ae20_000c2918c69drow0_col4\" class=\"data row0 col4\" >-0.190476</td> \n",
       "        <td id=\"T_eb8d6bce_183e_11ea_ae20_000c2918c69drow0_col5\" class=\"data row0 col5\" >-0.256776</td> \n",
       "        <td id=\"T_eb8d6bce_183e_11ea_ae20_000c2918c69drow0_col6\" class=\"data row0 col6\" >0.436436</td> \n",
       "        <td id=\"T_eb8d6bce_183e_11ea_ae20_000c2918c69drow0_col7\" class=\"data row0 col7\" >-0.378489</td> \n",
       "    </tr>    <tr> \n",
       "        <th id=\"T_eb8d6bce_183e_11ea_ae20_000c2918c69dlevel0_row1\" class=\"row_heading level0 row1\" >Counter_Other_Attacks</th> \n",
       "        <td id=\"T_eb8d6bce_183e_11ea_ae20_000c2918c69drow1_col0\" class=\"data row1 col0\" >-0.039841</td> \n",
       "        <td id=\"T_eb8d6bce_183e_11ea_ae20_000c2918c69drow1_col1\" class=\"data row1 col1\" >1</td> \n",
       "        <td id=\"T_eb8d6bce_183e_11ea_ae20_000c2918c69drow1_col2\" class=\"data row1 col2\" >-0.16736</td> \n",
       "        <td id=\"T_eb8d6bce_183e_11ea_ae20_000c2918c69drow1_col3\" class=\"data row1 col3\" >-0.416667</td> \n",
       "        <td id=\"T_eb8d6bce_183e_11ea_ae20_000c2918c69drow1_col4\" class=\"data row1 col4\" >0.039841</td> \n",
       "        <td id=\"T_eb8d6bce_183e_11ea_ae20_000c2918c69drow1_col5\" class=\"data row1 col5\" >0.0537086</td> \n",
       "        <td id=\"T_eb8d6bce_183e_11ea_ae20_000c2918c69drow1_col6\" class=\"data row1 col6\" >0.16736</td> \n",
       "        <td id=\"T_eb8d6bce_183e_11ea_ae20_000c2918c69drow1_col7\" class=\"data row1 col7\" >-0.133333</td> \n",
       "    </tr>    <tr> \n",
       "        <th id=\"T_eb8d6bce_183e_11ea_ae20_000c2918c69dlevel0_row2\" class=\"row_heading level0 row2\" >Scheme</th> \n",
       "        <td id=\"T_eb8d6bce_183e_11ea_ae20_000c2918c69drow2_col0\" class=\"data row2 col0\" >-0.127294</td> \n",
       "        <td id=\"T_eb8d6bce_183e_11ea_ae20_000c2918c69drow2_col1\" class=\"data row2 col1\" >-0.16736</td> \n",
       "        <td id=\"T_eb8d6bce_183e_11ea_ae20_000c2918c69drow2_col2\" class=\"data row2 col2\" >1</td> \n",
       "        <td id=\"T_eb8d6bce_183e_11ea_ae20_000c2918c69drow2_col3\" class=\"data row2 col3\" >0.349934</td> \n",
       "        <td id=\"T_eb8d6bce_183e_11ea_ae20_000c2918c69drow2_col4\" class=\"data row2 col4\" >0.127294</td> \n",
       "        <td id=\"T_eb8d6bce_183e_11ea_ae20_000c2918c69drow2_col5\" class=\"data row2 col5\" >0.032686</td> \n",
       "        <td id=\"T_eb8d6bce_183e_11ea_ae20_000c2918c69drow2_col6\" class=\"data row2 col6\" >-0.0555556</td> \n",
       "        <td id=\"T_eb8d6bce_183e_11ea_ae20_000c2918c69drow2_col7\" class=\"data row2 col7\" >0.0912871</td> \n",
       "    </tr>    <tr> \n",
       "        <th id=\"T_eb8d6bce_183e_11ea_ae20_000c2918c69dlevel0_row3\" class=\"row_heading level0 row3\" >Consider_other_means_of_packet_drop</th> \n",
       "        <td id=\"T_eb8d6bce_183e_11ea_ae20_000c2918c69drow3_col0\" class=\"data row3 col0\" >0.298807</td> \n",
       "        <td id=\"T_eb8d6bce_183e_11ea_ae20_000c2918c69drow3_col1\" class=\"data row3 col1\" >-0.416667</td> \n",
       "        <td id=\"T_eb8d6bce_183e_11ea_ae20_000c2918c69drow3_col2\" class=\"data row3 col2\" >0.349934</td> \n",
       "        <td id=\"T_eb8d6bce_183e_11ea_ae20_000c2918c69drow3_col3\" class=\"data row3 col3\" >1</td> \n",
       "        <td id=\"T_eb8d6bce_183e_11ea_ae20_000c2918c69drow3_col4\" class=\"data row3 col4\" >-0.298807</td> \n",
       "        <td id=\"T_eb8d6bce_183e_11ea_ae20_000c2918c69drow3_col5\" class=\"data row3 col5\" >-0.25064</td> \n",
       "        <td id=\"T_eb8d6bce_183e_11ea_ae20_000c2918c69drow3_col6\" class=\"data row3 col6\" >-0.0912871</td> \n",
       "        <td id=\"T_eb8d6bce_183e_11ea_ae20_000c2918c69drow3_col7\" class=\"data row3 col7\" >-0.416667</td> \n",
       "    </tr>    <tr> \n",
       "        <th id=\"T_eb8d6bce_183e_11ea_ae20_000c2918c69dlevel0_row4\" class=\"row_heading level0 row4\" >Multi_Path_Based</th> \n",
       "        <td id=\"T_eb8d6bce_183e_11ea_ae20_000c2918c69drow4_col0\" class=\"data row4 col0\" >-0.190476</td> \n",
       "        <td id=\"T_eb8d6bce_183e_11ea_ae20_000c2918c69drow4_col1\" class=\"data row4 col1\" >0.039841</td> \n",
       "        <td id=\"T_eb8d6bce_183e_11ea_ae20_000c2918c69drow4_col2\" class=\"data row4 col2\" >0.127294</td> \n",
       "        <td id=\"T_eb8d6bce_183e_11ea_ae20_000c2918c69drow4_col3\" class=\"data row4 col3\" >-0.298807</td> \n",
       "        <td id=\"T_eb8d6bce_183e_11ea_ae20_000c2918c69drow4_col4\" class=\"data row4 col4\" >1</td> \n",
       "        <td id=\"T_eb8d6bce_183e_11ea_ae20_000c2918c69drow4_col5\" class=\"data row4 col5\" >0.256776</td> \n",
       "        <td id=\"T_eb8d6bce_183e_11ea_ae20_000c2918c69drow4_col6\" class=\"data row4 col6\" >-0.127294</td> \n",
       "        <td id=\"T_eb8d6bce_183e_11ea_ae20_000c2918c69drow4_col7\" class=\"data row4 col7\" >0.717137</td> \n",
       "    </tr>    <tr> \n",
       "        <th id=\"T_eb8d6bce_183e_11ea_ae20_000c2918c69dlevel0_row5\" class=\"row_heading level0 row5\" >Acknowledge_based</th> \n",
       "        <td id=\"T_eb8d6bce_183e_11ea_ae20_000c2918c69drow5_col0\" class=\"data row5 col0\" >-0.256776</td> \n",
       "        <td id=\"T_eb8d6bce_183e_11ea_ae20_000c2918c69drow5_col1\" class=\"data row5 col1\" >0.0537086</td> \n",
       "        <td id=\"T_eb8d6bce_183e_11ea_ae20_000c2918c69drow5_col2\" class=\"data row5 col2\" >0.032686</td> \n",
       "        <td id=\"T_eb8d6bce_183e_11ea_ae20_000c2918c69drow5_col3\" class=\"data row5 col3\" >-0.25064</td> \n",
       "        <td id=\"T_eb8d6bce_183e_11ea_ae20_000c2918c69drow5_col4\" class=\"data row5 col4\" >0.256776</td> \n",
       "        <td id=\"T_eb8d6bce_183e_11ea_ae20_000c2918c69drow5_col5\" class=\"data row5 col5\" >1</td> \n",
       "        <td id=\"T_eb8d6bce_183e_11ea_ae20_000c2918c69drow5_col6\" class=\"data row5 col6\" >0.522976</td> \n",
       "        <td id=\"T_eb8d6bce_183e_11ea_ae20_000c2918c69drow5_col7\" class=\"data row5 col7\" >0.358057</td> \n",
       "    </tr>    <tr> \n",
       "        <th id=\"T_eb8d6bce_183e_11ea_ae20_000c2918c69dlevel0_row6\" class=\"row_heading level0 row6\" >Neighbor_Monitoring</th> \n",
       "        <td id=\"T_eb8d6bce_183e_11ea_ae20_000c2918c69drow6_col0\" class=\"data row6 col0\" >0.436436</td> \n",
       "        <td id=\"T_eb8d6bce_183e_11ea_ae20_000c2918c69drow6_col1\" class=\"data row6 col1\" >0.16736</td> \n",
       "        <td id=\"T_eb8d6bce_183e_11ea_ae20_000c2918c69drow6_col2\" class=\"data row6 col2\" >-0.0555556</td> \n",
       "        <td id=\"T_eb8d6bce_183e_11ea_ae20_000c2918c69drow6_col3\" class=\"data row6 col3\" >-0.0912871</td> \n",
       "        <td id=\"T_eb8d6bce_183e_11ea_ae20_000c2918c69drow6_col4\" class=\"data row6 col4\" >-0.127294</td> \n",
       "        <td id=\"T_eb8d6bce_183e_11ea_ae20_000c2918c69drow6_col5\" class=\"data row6 col5\" >0.522976</td> \n",
       "        <td id=\"T_eb8d6bce_183e_11ea_ae20_000c2918c69drow6_col6\" class=\"data row6 col6\" >1</td> \n",
       "        <td id=\"T_eb8d6bce_183e_11ea_ae20_000c2918c69drow6_col7\" class=\"data row6 col7\" >-0.0912871</td> \n",
       "    </tr>    <tr> \n",
       "        <th id=\"T_eb8d6bce_183e_11ea_ae20_000c2918c69dlevel0_row7\" class=\"row_heading level0 row7\" >Reliable_Data_Delivery</th> \n",
       "        <td id=\"T_eb8d6bce_183e_11ea_ae20_000c2918c69drow7_col0\" class=\"data row7 col0\" >-0.378489</td> \n",
       "        <td id=\"T_eb8d6bce_183e_11ea_ae20_000c2918c69drow7_col1\" class=\"data row7 col1\" >-0.133333</td> \n",
       "        <td id=\"T_eb8d6bce_183e_11ea_ae20_000c2918c69drow7_col2\" class=\"data row7 col2\" >0.0912871</td> \n",
       "        <td id=\"T_eb8d6bce_183e_11ea_ae20_000c2918c69drow7_col3\" class=\"data row7 col3\" >-0.416667</td> \n",
       "        <td id=\"T_eb8d6bce_183e_11ea_ae20_000c2918c69drow7_col4\" class=\"data row7 col4\" >0.717137</td> \n",
       "        <td id=\"T_eb8d6bce_183e_11ea_ae20_000c2918c69drow7_col5\" class=\"data row7 col5\" >0.358057</td> \n",
       "        <td id=\"T_eb8d6bce_183e_11ea_ae20_000c2918c69drow7_col6\" class=\"data row7 col6\" >-0.0912871</td> \n",
       "        <td id=\"T_eb8d6bce_183e_11ea_ae20_000c2918c69drow7_col7\" class=\"data row7 col7\" >1</td> \n",
       "    </tr></tbody> \n",
       "</table> "
      ],
      "text/plain": [
       "<pandas.io.formats.style.Styler at 0x7fc851bc6b38>"
      ]
     },
     "execution_count": 8,
     "metadata": {},
     "output_type": "execute_result"
    }
   ],
   "source": [
    "corr = df.corr()\n",
    "#print(corr)\n",
    "corr.style.background_gradient(cmap='coolwarm')\n",
    "#corr.style.background_gradient(cmap='viridis').set_precision(2)"
   ]
  },
  {
   "cell_type": "code",
   "execution_count": 5,
   "metadata": {},
   "outputs": [
    {
     "data": {
      "text/plain": [
       "-0.13333333333333328"
      ]
     },
     "execution_count": 5,
     "metadata": {},
     "output_type": "execute_result"
    }
   ],
   "source": [
    "df['Type'].corr(df['Reliable_Data_Delivery'])\n",
    "df['Counter_Other_Attacks'].corr(df['Reliable_Data_Delivery'])"
   ]
  },
  {
   "cell_type": "code",
   "execution_count": 5,
   "metadata": {},
   "outputs": [
    {
     "name": "stdout",
     "output_type": "stream",
     "text": [
      "0.23529411764705882\n",
      "0.5294117647058824\n",
      "0.5294117647058824\n",
      "0.4117647058823529\n",
      "0.8823529411764706\n",
      "0.5294117647058824\n",
      "0.47058823529411764\n"
     ]
    },
    {
     "name": "stderr",
     "output_type": "stream",
     "text": [
      "/home/students/nedumudi/.local/lib/python3.5/site-packages/sklearn/metrics/classification.py:635: DeprecationWarning: jaccard_similarity_score has been deprecated and replaced with jaccard_score. It will be removed in version 0.23. This implementation has surprising behavior for binary and multiclass classification tasks.\n",
      "  'and multiclass classification tasks.', DeprecationWarning)\n",
      "/home/students/nedumudi/.local/lib/python3.5/site-packages/sklearn/metrics/classification.py:635: DeprecationWarning: jaccard_similarity_score has been deprecated and replaced with jaccard_score. It will be removed in version 0.23. This implementation has surprising behavior for binary and multiclass classification tasks.\n",
      "  'and multiclass classification tasks.', DeprecationWarning)\n",
      "/home/students/nedumudi/.local/lib/python3.5/site-packages/sklearn/metrics/classification.py:635: DeprecationWarning: jaccard_similarity_score has been deprecated and replaced with jaccard_score. It will be removed in version 0.23. This implementation has surprising behavior for binary and multiclass classification tasks.\n",
      "  'and multiclass classification tasks.', DeprecationWarning)\n",
      "/home/students/nedumudi/.local/lib/python3.5/site-packages/sklearn/metrics/classification.py:635: DeprecationWarning: jaccard_similarity_score has been deprecated and replaced with jaccard_score. It will be removed in version 0.23. This implementation has surprising behavior for binary and multiclass classification tasks.\n",
      "  'and multiclass classification tasks.', DeprecationWarning)\n",
      "/home/students/nedumudi/.local/lib/python3.5/site-packages/sklearn/metrics/classification.py:635: DeprecationWarning: jaccard_similarity_score has been deprecated and replaced with jaccard_score. It will be removed in version 0.23. This implementation has surprising behavior for binary and multiclass classification tasks.\n",
      "  'and multiclass classification tasks.', DeprecationWarning)\n",
      "/home/students/nedumudi/.local/lib/python3.5/site-packages/sklearn/metrics/classification.py:635: DeprecationWarning: jaccard_similarity_score has been deprecated and replaced with jaccard_score. It will be removed in version 0.23. This implementation has surprising behavior for binary and multiclass classification tasks.\n",
      "  'and multiclass classification tasks.', DeprecationWarning)\n",
      "/home/students/nedumudi/.local/lib/python3.5/site-packages/sklearn/metrics/classification.py:635: DeprecationWarning: jaccard_similarity_score has been deprecated and replaced with jaccard_score. It will be removed in version 0.23. This implementation has surprising behavior for binary and multiclass classification tasks.\n",
      "  'and multiclass classification tasks.', DeprecationWarning)\n"
     ]
    }
   ],
   "source": [
    "from sklearn.metrics import jaccard_similarity_score\n",
    "print(jaccard_similarity_score(df.Type, df.Reliable_Data_Delivery))\n",
    "print(jaccard_similarity_score(df.Counter_Other_Attacks, df.Reliable_Data_Delivery))\n",
    "print(jaccard_similarity_score(df.Scheme, df.Reliable_Data_Delivery))\n",
    "print(jaccard_similarity_score(df.Consider_other_means_of_packet_drop, df.Reliable_Data_Delivery))\n",
    "print(jaccard_similarity_score(df.Multi_Path_Based, df.Reliable_Data_Delivery))\n",
    "print(jaccard_similarity_score(df.Acknowledge_based, df.Reliable_Data_Delivery))\n",
    "print(jaccard_similarity_score(df.Neighbor_Monitoring, df.Reliable_Data_Delivery))"
   ]
  },
  {
   "cell_type": "code",
   "execution_count": 6,
   "metadata": {
    "collapsed": true
   },
   "outputs": [],
   "source": [
    "X = np.asarray(df[['Type','Counter_Other_Attacks','Consider_other_means_of_packet_drop','Multi_Path_Based','Acknowledge_based']])"
   ]
  },
  {
   "cell_type": "code",
   "execution_count": 7,
   "metadata": {
    "collapsed": true
   },
   "outputs": [],
   "source": [
    "y = np.asarray(df['Reliable_Data_Delivery'])"
   ]
  },
  {
   "cell_type": "code",
   "execution_count": 212,
   "metadata": {},
   "outputs": [
    {
     "name": "stderr",
     "output_type": "stream",
     "text": [
      "/usr/local/lib/python3.5/dist-packages/sklearn/utils/validation.py:475: DataConversionWarning: Data with input dtype int64 was converted to float64 by StandardScaler.\n",
      "  warnings.warn(msg, DataConversionWarning)\n"
     ]
    },
    {
     "data": {
      "text/plain": [
       "array([[ 2.16,  0.55],\n",
       "       [-0.46, -1.8 ],\n",
       "       [-0.46, -1.8 ],\n",
       "       [-0.46,  0.55],\n",
       "       [-0.46,  0.55]])"
      ]
     },
     "execution_count": 212,
     "metadata": {},
     "output_type": "execute_result"
    }
   ],
   "source": [
    "from sklearn import preprocessing\n",
    "X = preprocessing.StandardScaler().fit(X).transform(X)\n",
    "X[0:5]"
   ]
  },
  {
   "cell_type": "code",
   "execution_count": 293,
   "metadata": {},
   "outputs": [
    {
     "name": "stdout",
     "output_type": "stream",
     "text": [
      "Train set: (13, 5) (13,)\n",
      "Test set: (4, 5) (4,)\n"
     ]
    }
   ],
   "source": [
    "from sklearn.model_selection import train_test_split\n",
    "X_train, X_test, y_train, y_test = train_test_split( X, y, test_size=0.2, random_state=0)\n",
    "print ('Train set:', X_train.shape,  y_train.shape)\n",
    "print ('Test set:', X_test.shape,  y_test.shape)"
   ]
  },
  {
   "cell_type": "code",
   "execution_count": 294,
   "metadata": {},
   "outputs": [
    {
     "data": {
      "text/plain": [
       "LogisticRegression(C=0.01, class_weight=None, dual=False, fit_intercept=True,\n",
       "          intercept_scaling=1, max_iter=100, multi_class='ovr', n_jobs=1,\n",
       "          penalty='l2', random_state=None, solver='liblinear', tol=0.0001,\n",
       "          verbose=0, warm_start=False)"
      ]
     },
     "execution_count": 294,
     "metadata": {},
     "output_type": "execute_result"
    }
   ],
   "source": [
    "from sklearn.linear_model import LogisticRegression\n",
    "from sklearn.metrics import confusion_matrix\n",
    "LR = LogisticRegression(C=0.01, solver='liblinear').fit(X_train,y_train)\n",
    "LR"
   ]
  },
  {
   "cell_type": "code",
   "execution_count": 295,
   "metadata": {},
   "outputs": [
    {
     "data": {
      "text/plain": [
       "array([0, 0, 0, 0])"
      ]
     },
     "execution_count": 295,
     "metadata": {},
     "output_type": "execute_result"
    }
   ],
   "source": [
    "yhat = LR.predict(X_test)\n",
    "yhat"
   ]
  },
  {
   "cell_type": "code",
   "execution_count": 296,
   "metadata": {},
   "outputs": [
    {
     "data": {
      "text/plain": [
       "array([[0.52, 0.48],\n",
       "       [0.51, 0.49],\n",
       "       [0.52, 0.48],\n",
       "       [0.52, 0.48]])"
      ]
     },
     "execution_count": 296,
     "metadata": {},
     "output_type": "execute_result"
    }
   ],
   "source": [
    "yhat_prob = LR.predict_proba(X_test)\n",
    "yhat_prob"
   ]
  },
  {
   "cell_type": "code",
   "execution_count": 297,
   "metadata": {},
   "outputs": [
    {
     "name": "stdout",
     "output_type": "stream",
     "text": [
      "Requirement already satisfied: statsmodels in ./.local/lib/python3.5/site-packages (0.10.1)\n",
      "Requirement already satisfied: pandas>=0.19 in /usr/local/lib/python3.5/dist-packages (from statsmodels) (0.22.0)\n",
      "Requirement already satisfied: scipy>=0.18 in /usr/local/lib/python3.5/dist-packages (from statsmodels) (1.0.1)\n",
      "Requirement already satisfied: patsy>=0.4.0 in ./.local/lib/python3.5/site-packages (from statsmodels) (0.5.1)\n",
      "Requirement already satisfied: numpy>=1.11 in /usr/local/lib/python3.5/dist-packages (from statsmodels) (1.14.2)\n",
      "Requirement already satisfied: python-dateutil>=2 in /usr/local/lib/python3.5/dist-packages (from pandas>=0.19->statsmodels) (2.7.2)\n",
      "Requirement already satisfied: pytz>=2011k in /usr/local/lib/python3.5/dist-packages (from pandas>=0.19->statsmodels) (2018.3)\n",
      "Requirement already satisfied: six in /usr/local/lib/python3.5/dist-packages (from patsy>=0.4.0->statsmodels) (1.11.0)\n",
      "\u001b[33mYou are using pip version 18.0, however version 19.3.1 is available.\n",
      "You should consider upgrading via the 'pip install --upgrade pip' command.\u001b[0m\n"
     ]
    }
   ],
   "source": [
    "!pip install --user statsmodels\n"
   ]
  },
  {
   "cell_type": "code",
   "execution_count": 298,
   "metadata": {},
   "outputs": [
    {
     "name": "stdout",
     "output_type": "stream",
     "text": [
      "Warning: Maximum number of iterations has been exceeded.\n",
      "         Current function value: 0.188759\n",
      "         Iterations: 35\n",
      "                         Results: Logit\n",
      "================================================================\n",
      "Model:              Logit            Pseudo R-squared: 0.688    \n",
      "Dependent Variable: y                AIC:              16.4178  \n",
      "Date:               2019-11-22 17:02 BIC:              20.5839  \n",
      "No. Observations:   17               Log-Likelihood:   -3.2089  \n",
      "Df Model:           4                LL-Null:          -10.299  \n",
      "Df Residuals:       12               LLR p-value:      0.0067442\n",
      "Converged:          0.0000           Scale:            1.0000   \n",
      "No. Iterations:     35.0000                                     \n",
      "----------------------------------------------------------------\n",
      "     Coef.     Std.Err.     z    P>|z|     [0.025       0.975]  \n",
      "----------------------------------------------------------------\n",
      "x1   -1.0561      1.5343 -0.6883 0.4912      -4.0632      1.9510\n",
      "x2  -20.8101  22697.5949 -0.0009 0.9993  -44507.2786  44465.6584\n",
      "x3  -26.6719 394303.2155 -0.0001 0.9999 -772846.7733 772793.4295\n",
      "x4   44.2975 165584.5515  0.0003 0.9998 -324495.4598 324584.0548\n",
      "x5    0.5280      1.2883  0.4099 0.6819      -1.9971      3.0532\n",
      "================================================================\n",
      "\n"
     ]
    },
    {
     "name": "stderr",
     "output_type": "stream",
     "text": [
      "/home/students/nedumudi/.local/lib/python3.5/site-packages/statsmodels/base/model.py:512: ConvergenceWarning: Maximum Likelihood optimization failed to converge. Check mle_retvals\n",
      "  \"Check mle_retvals\", ConvergenceWarning)\n"
     ]
    }
   ],
   "source": [
    "import statsmodels.api as sm\n",
    "logit_model=sm.Logit(y,X)\n",
    "result=logit_model.fit()\n",
    "print(result.summary2())"
   ]
  },
  {
   "cell_type": "markdown",
   "metadata": {},
   "source": [
    "# EVALUATON"
   ]
  },
  {
   "cell_type": "code",
   "execution_count": 299,
   "metadata": {},
   "outputs": [
    {
     "data": {
      "text/plain": [
       "0.75"
      ]
     },
     "execution_count": 299,
     "metadata": {},
     "output_type": "execute_result"
    }
   ],
   "source": [
    "from sklearn.metrics import jaccard_similarity_score\n",
    "jaccard_similarity_score(y_test, yhat)"
   ]
  },
  {
   "cell_type": "code",
   "execution_count": 34,
   "metadata": {},
   "outputs": [
    {
     "ename": "NameError",
     "evalue": "name 'yhat' is not defined",
     "output_type": "error",
     "traceback": [
      "\u001b[0;31m---------------------------------------------------------------------------\u001b[0m",
      "\u001b[0;31mNameError\u001b[0m                                 Traceback (most recent call last)",
      "\u001b[0;32m<ipython-input-34-4d0f8a13750d>\u001b[0m in \u001b[0;36m<module>\u001b[0;34m()\u001b[0m\n\u001b[1;32m     34\u001b[0m     \u001b[0mplt\u001b[0m\u001b[0;34m.\u001b[0m\u001b[0mylabel\u001b[0m\u001b[0;34m(\u001b[0m\u001b[0;34m'True label'\u001b[0m\u001b[0;34m)\u001b[0m\u001b[0;34m\u001b[0m\u001b[0m\n\u001b[1;32m     35\u001b[0m     \u001b[0mplt\u001b[0m\u001b[0;34m.\u001b[0m\u001b[0mxlabel\u001b[0m\u001b[0;34m(\u001b[0m\u001b[0;34m'Predicted label'\u001b[0m\u001b[0;34m)\u001b[0m\u001b[0;34m\u001b[0m\u001b[0m\n\u001b[0;32m---> 36\u001b[0;31m \u001b[0mprint\u001b[0m\u001b[0;34m(\u001b[0m\u001b[0mconfusion_matrix\u001b[0m\u001b[0;34m(\u001b[0m\u001b[0my_test\u001b[0m\u001b[0;34m,\u001b[0m \u001b[0myhat\u001b[0m\u001b[0;34m,\u001b[0m \u001b[0mlabels\u001b[0m\u001b[0;34m=\u001b[0m\u001b[0;34m[\u001b[0m\u001b[0;36m1\u001b[0m\u001b[0;34m,\u001b[0m\u001b[0;36m0\u001b[0m\u001b[0;34m]\u001b[0m\u001b[0;34m)\u001b[0m\u001b[0;34m)\u001b[0m\u001b[0;34m\u001b[0m\u001b[0m\n\u001b[0m",
      "\u001b[0;31mNameError\u001b[0m: name 'yhat' is not defined"
     ]
    }
   ],
   "source": [
    "from sklearn.metrics import classification_report, confusion_matrix\n",
    "import itertools\n",
    "def plot_confusion_matrix(cm, classes,\n",
    "                          normalize=False,\n",
    "                          title='Confusion matrix',\n",
    "                          cmap=plt.cm.Blues):\n",
    "    \"\"\"\n",
    "    This function prints and plots the confusion matrix.\n",
    "    Normalization can be applied by setting `normalize=True`.\n",
    "    \"\"\"\n",
    "    if normalize:\n",
    "        cm = cm.astype('float') / cm.sum(axis=1)[:, np.newaxis]\n",
    "        print(\"Normalized confusion matrix\")\n",
    "    else:\n",
    "        print('Confusion matrix, without normalization')\n",
    "\n",
    "    print(cm)\n",
    "\n",
    "    plt.imshow(cm, interpolation='nearest', cmap=cmap)\n",
    "    plt.title(title)\n",
    "    plt.colorbar()\n",
    "    tick_marks = np.arange(len(classes))\n",
    "    plt.xticks(tick_marks, classes, rotation=45)\n",
    "    plt.yticks(tick_marks, classes)\n",
    "\n",
    "    fmt = '.2f' if normalize else 'd'\n",
    "    thresh = cm.max() / 2.\n",
    "    for i, j in itertools.product(range(cm.shape[0]), range(cm.shape[1])):\n",
    "        plt.text(j, i, format(cm[i, j], fmt),\n",
    "                 horizontalalignment=\"center\",\n",
    "                 color=\"white\" if cm[i, j] > thresh else \"black\")\n",
    "\n",
    "    plt.tight_layout()\n",
    "    plt.ylabel('True label')\n",
    "    plt.xlabel('Predicted label')\n",
    "print(confusion_matrix(y_test, yhat, labels=[1,0]))"
   ]
  },
  {
   "cell_type": "code",
   "execution_count": 301,
   "metadata": {},
   "outputs": [
    {
     "name": "stdout",
     "output_type": "stream",
     "text": [
      "Confusion matrix, without normalization\n",
      "[[0 1]\n",
      " [0 3]]\n"
     ]
    },
    {
     "data": {
      "image/png": "[encoded data removed]",
      "text/plain": [
       "<Figure size 432x288 with 2 Axes>"
      ]
     },
     "metadata": {},
     "output_type": "display_data"
    }
   ],
   "source": [
    "# Compute confusion matrix\n",
    "cnf_matrix = confusion_matrix(y_test, yhat, labels=[1,0])\n",
    "np.set_printoptions(precision=2)\n",
    "\n",
    "\n",
    "# Plot non-normalized confusion matrix\n",
    "plt.figure()\n",
    "plot_confusion_matrix(cnf_matrix, classes=['Reliability=1','Reliability=0'],normalize= False,  title='Confusion matrix')"
   ]
  },
  {
   "cell_type": "code",
   "execution_count": 302,
   "metadata": {},
   "outputs": [
    {
     "name": "stdout",
     "output_type": "stream",
     "text": [
      "             precision    recall  f1-score   support\n",
      "\n",
      "          0       0.75      1.00      0.86         3\n",
      "          1       0.00      0.00      0.00         1\n",
      "\n",
      "avg / total       0.56      0.75      0.64         4\n",
      "\n"
     ]
    },
    {
     "name": "stderr",
     "output_type": "stream",
     "text": [
      "/usr/local/lib/python3.5/dist-packages/sklearn/metrics/classification.py:1135: UndefinedMetricWarning: Precision and F-score are ill-defined and being set to 0.0 in labels with no predicted samples.\n",
      "  'precision', 'predicted', average, warn_for)\n"
     ]
    }
   ],
   "source": [
    "print (classification_report(y_test, yhat))\n"
   ]
  },
  {
   "cell_type": "code",
   "execution_count": 30,
   "metadata": {},
   "outputs": [
    {
     "name": "stdout",
     "output_type": "stream",
     "text": [
      "[1 0 1 0 0]\n",
      "[[3 1]\n",
      " [0 1]]\n",
      "accuracy =  0.8\n",
      "recall =  1.0\n"
     ]
    },
    {
     "name": "stderr",
     "output_type": "stream",
     "text": [
      "/home/students/nedumudi/.local/lib/python3.5/site-packages/sklearn/linear_model/logistic.py:432: FutureWarning: Default solver will be changed to 'lbfgs' in 0.22. Specify a solver to silence this warning.\n",
      "  FutureWarning)\n"
     ]
    }
   ],
   "source": [
    "    from sklearn.model_selection import train_test_split\n",
    "    from imblearn.under_sampling import NearMiss\n",
    "    from sklearn.metrics import accuracy_score, confusion_matrix, recall_score\n",
    "    from sklearn.linear_model import LogisticRegression\n",
    "    from sklearn.metrics import confusion_matrix\n",
    "    X_train, X_test, y_train, y_test = train_test_split(X, y, random_state = 1, stratify=y)\n",
    "\n",
    "    nr = NearMiss()\n",
    "    X_train, y_train = nr.fit_sample(X_train, y_train)\n",
    "    np.bincount(y_train)\n",
    "\n",
    "lr = LogisticRegression()\n",
    "lr.fit(X_train, y_train)\n",
    "\n",
    "y_pred = lr.predict(X_test)\n",
    "print(y_pred)\n",
    "\n",
    "print(confusion_matrix(y_test, y_pred))\n",
    "\n",
    "print(\"accuracy = \" , accuracy_score(y_test, y_pred))\n",
    "\n",
    "print(\"recall = \", recall_score(y_test, y_pred))"
   ]
  },
  {
   "cell_type": "code",
   "execution_count": 32,
   "metadata": {},
   "outputs": [
    {
     "data": {
      "text/plain": [
       "(array([[1, 0, 1, 0, 1],\n",
       "        [1, 0, 0, 0, 0],\n",
       "        [1, 1, 0, 0, 1],\n",
       "        [1, 1, 0, 0, 1],\n",
       "        [1, 0, 0, 0, 1],\n",
       "        [1, 0, 0, 1, 1],\n",
       "        [1, 0, 0, 1, 1],\n",
       "        [0, 1, 0, 1, 1]]), array([0, 0, 0, 0, 1, 1, 1, 1]))"
      ]
     },
     "execution_count": 32,
     "metadata": {},
     "output_type": "execute_result"
    }
   ],
   "source": [
    "nr = NearMiss()\n",
    "X_train, y_train = nr.fit_sample(X_train, y_train)\n",
    "X_train, y_train"
   ]
  },
  {
   "cell_type": "code",
   "execution_count": 308,
   "metadata": {},
   "outputs": [
    {
     "data": {
      "text/plain": [
       "array([4, 4])"
      ]
     },
     "execution_count": 308,
     "metadata": {},
     "output_type": "execute_result"
    }
   ],
   "source": [
    "np.bincount(y_train)"
   ]
  },
  {
   "cell_type": "code",
   "execution_count": 35,
   "metadata": {},
   "outputs": [
    {
     "name": "stdout",
     "output_type": "stream",
     "text": [
      "Confusion matrix, without normalization\n",
      "[[1 0]\n",
      " [1 3]]\n"
     ]
    },
    {
     "data": {
      "image/png": "[encoded data removed]",
      "text/plain": [
       "<Figure size 432x288 with 2 Axes>"
      ]
     },
     "metadata": {},
     "output_type": "display_data"
    }
   ],
   "source": [
    "cnf_matrix = confusion_matrix(y_test, y_pred, labels=[1,0])\n",
    "np.set_printoptions(precision=2)\n",
    "\n",
    "\n",
    "# Plot non-normalized confusion matrix\n",
    "plt.figure()\n",
    "plot_confusion_matrix(cnf_matrix, classes=['Reliability=1','Reliability=0'],normalize= False,  title='Confusion matrix')"
   ]
  },
  {
   "cell_type": "code",
   "execution_count": 314,
   "metadata": {},
   "outputs": [
    {
     "name": "stdout",
     "output_type": "stream",
     "text": [
      "             precision    recall  f1-score   support\n",
      "\n",
      "          0       1.00      0.75      0.86         4\n",
      "          1       0.50      1.00      0.67         1\n",
      "\n",
      "avg / total       0.90      0.80      0.82         5\n",
      "\n"
     ]
    }
   ],
   "source": [
    "print (classification_report(y_test, y_pred))"
   ]
  },
  {
   "cell_type": "code",
   "execution_count": 10,
   "metadata": {},
   "outputs": [
    {
     "data": {
      "text/plain": [
       "LogisticRegression(C=1e+40, class_weight=None, dual=False, fit_intercept=True,\n",
       "                   intercept_scaling=1, l1_ratio=None, max_iter=100,\n",
       "                   multi_class='warn', n_jobs=None, penalty='l2',\n",
       "                   random_state=None, solver='newton-cg', tol=0.0001, verbose=0,\n",
       "                   warm_start=False)"
      ]
     },
     "execution_count": 10,
     "metadata": {},
     "output_type": "execute_result"
    }
   ],
   "source": [
    "from sklearn import linear_model\n",
    "clf= linear_model.LogisticRegression(C=1e40, solver='newton-cg')\n",
    "fitted_model = clf.fit(X,y)\n",
    "fitted_model"
   ]
  },
  {
   "cell_type": "code",
   "execution_count": 36,
   "metadata": {},
   "outputs": [
    {
     "data": {
      "text/plain": [
       "array([1])"
      ]
     },
     "execution_count": 36,
     "metadata": {},
     "output_type": "execute_result"
    }
   ],
   "source": [
    "predict_result = lr.predict([(1,1,1,1,1)])\n",
    "predict_result"
   ]
  },
  {
   "cell_type": "code",
   "execution_count": 20,
   "metadata": {},
   "outputs": [
    {
     "name": "stdout",
     "output_type": "stream",
     "text": [
      "[-10.66522059]\n"
     ]
    }
   ],
   "source": [
    "print(fitted_model.intercept_)"
   ]
  },
  {
   "cell_type": "code",
   "execution_count": 21,
   "metadata": {},
   "outputs": [
    {
     "name": "stdout",
     "output_type": "stream",
     "text": [
      "[[-9.77834300e-09 -1.11797356e+01 -1.24571877e+01  2.20499347e+01\n",
      "   1.06652206e+01]]\n"
     ]
    }
   ],
   "source": [
    "print(fitted_model.coef_)"
   ]
  },
  {
   "cell_type": "code",
   "execution_count": null,
   "metadata": {
    "collapsed": true
   },
   "outputs": [],
   "source": []
  }
 ],
 "metadata": {
  "kernelspec": {
   "display_name": "Python 3",
   "language": "python",
   "name": "python3"
  },
  "language_info": {
   "codemirror_mode": {
    "name": "ipython",
    "version": 3
   },
   "file_extension": ".py",
   "mimetype": "text/x-python",
   "name": "python",
   "nbconvert_exporter": "python",
   "pygments_lexer": "ipython3",
   "version": "3.5.2"
  }
 },
 "nbformat": 4,
 "nbformat_minor": 2
}
